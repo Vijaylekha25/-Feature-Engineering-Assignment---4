{
 "cells": [
  {
   "cell_type": "markdown",
   "id": "5fa407b7-df47-4974-acd8-54c3386d017c",
   "metadata": {},
   "source": [
    "Q1. What is data encoding? How is it useful in data science?"
   ]
  },
  {
   "cell_type": "markdown",
   "id": "f3460714-1863-44f7-9d0d-115066b5d887",
   "metadata": {},
   "source": [
    "\n",
    "Answer-Data encoding is the process of converting categorical data into numerical format so that it can be effectively used in machine learning algorithms. It is useful in data science because many machine learning algorithms require numerical input, and encoding categorical variables allows these algorithms to process the data effectively."
   ]
  },
  {
   "cell_type": "markdown",
   "id": "fed6fc58-8ac0-405e-83de-aa9287b127c8",
   "metadata": {},
   "source": [
    "Q2. What is nominal encoding? Provide an example of how you would use it in a real-world scenario."
   ]
  },
  {
   "cell_type": "markdown",
   "id": "225b2995-d599-45be-a9cb-d602152b0c1b",
   "metadata": {},
   "source": [
    "Answer- Nominal encoding, also known as label encoding, assigns a unique numerical value to each category in a categorical variable. It is useful when the categories have a natural ordering but are not inherently numerical.\n",
    "\n",
    "Example: Suppose we have a categorical variable \"temperature\" with categories {\"low\", \"medium\", \"high\"}. Nominal encoding would assign numerical values like {0, 1, 2} respectively to each category."
   ]
  },
  {
   "cell_type": "markdown",
   "id": "6e47f945-ba00-477a-93d2-53cdd22306da",
   "metadata": {},
   "source": [
    "Q3. In what situations is nominal encoding preferred over one-hot encoding? Provide a practical example."
   ]
  },
  {
   "cell_type": "markdown",
   "id": "18c12ca9-c9cd-4f30-acf4-893f9dd84752",
   "metadata": {},
   "source": [
    "Answer- Nominal encoding is preferred over one-hot encoding when the categorical variable has many unique values, as one-hot encoding would create a large number of new columns, leading to the curse of dimensionality and computational inefficiency.\n",
    "\n",
    "Example: Consider a variable \"city\" with hundreds of unique city names. Nominal encoding would assign each city a unique numerical value, while one-hot encoding would create a binary column for each city, resulting in a very wide dataset."
   ]
  },
  {
   "cell_type": "markdown",
   "id": "bb4e779f-af46-4476-b0a4-6b82d9117875",
   "metadata": {},
   "source": [
    "Q4. Suppose you have a dataset containing categorical data with 5 unique values. Which encoding\n",
    "technique would you use to transform this data into a format suitable for machine learning algorithms?\n",
    "Explain why you made this choice."
   ]
  },
  {
   "cell_type": "code",
   "execution_count": null,
   "id": "5f05f167-f8a5-4355-bc90-baaea094f474",
   "metadata": {},
   "outputs": [],
   "source": [
    "Answer- If the dataset contains categorical data with 5 unique values, we would use nominal encoding to transform the data into a format suitable for machine learning algorithms. This choice is made because nominal encoding assigns a unique numerical value to each category, making it suitable for algorithms that require numerical input.\n",
    "\n",
    "Q5. If we use nominal encoding to transform the two categorical colule numerical column. Therefore, 2 new columns would be created."
   ]
  },
  {
   "cell_type": "markdown",
   "id": "102c5768-04de-4d30-9bed-df7eb869be51",
   "metadata": {},
   "source": [
    "Q5. In a machine learning project, you have a dataset with 1000 rows and 5 columns. Two of the columns\n",
    "are categorical, and the remaining three columns are numerical. If you were to use nominal encoding to\n",
    "transform the categorical data, how many new columns would be created? Show your calculations."
   ]
  },
  {
   "cell_type": "code",
   "execution_count": null,
   "id": "9abae88f-aec4-47c8-8131-212cba1fdaf8",
   "metadata": {},
   "outputs": [],
   "source": [
    ". If we use nominal encoding to transform the two categorical columns in a dataset with 1000 rows, each categorical column would be replaced by a single numerical column. Therefore, 2 new columns would be created."
   ]
  },
  {
   "cell_type": "markdown",
   "id": "c23dcbd8-5d64-42e1-9a6e-e11340c1069d",
   "metadata": {},
   "source": [
    "Q6. You are working with a dataset containing information about different types of animals, including their\n",
    "species, habitat, and diet. Which encoding technique would you use to transform the categorical data into\n",
    "a format suitable for machine learning algorithms? Justify your answer."
   ]
  },
  {
   "cell_type": "code",
   "execution_count": null,
   "id": "194dce2a-f0d3-4f1d-9846-413b8e9c57ab",
   "metadata": {},
   "outputs": [],
   "source": []
  },
  {
   "cell_type": "markdown",
   "id": "89cda5ca-beaa-4175-85ed-51cf795a6ea0",
   "metadata": {},
   "source": [
    "Q7.You are working on a project that involves predicting customer churn for a telecommunications\n",
    "company. You have a dataset with 5 features, including the customer's gender, age, contract type,\n",
    "monthly charges, and tenure. Which encoding technique(s) would you use to transform the categorical\n",
    "data into numerical data? Provide a step-by-step explanation of how you would implement the encoding."
   ]
  },
  {
   "cell_type": "code",
   "execution_count": null,
   "id": "1789fc69-af30-4601-aaba-86fd55ea4ec1",
   "metadata": {},
   "outputs": [],
   "source": []
  },
  {
   "cell_type": "code",
   "execution_count": null,
   "id": "04bc8f6e-ffb1-4f83-9116-2205e853fd88",
   "metadata": {},
   "outputs": [],
   "source": []
  },
  {
   "cell_type": "code",
   "execution_count": null,
   "id": "71be58b7-af48-4074-a065-fc33fedb142a",
   "metadata": {},
   "outputs": [],
   "source": []
  },
  {
   "cell_type": "code",
   "execution_count": null,
   "id": "f77c2b89-284c-47af-a40f-4a657760740c",
   "metadata": {},
   "outputs": [],
   "source": []
  }
 ],
 "metadata": {
  "kernelspec": {
   "display_name": "Python 3 (ipykernel)",
   "language": "python",
   "name": "python3"
  },
  "language_info": {
   "codemirror_mode": {
    "name": "ipython",
    "version": 3
   },
   "file_extension": ".py",
   "mimetype": "text/x-python",
   "name": "python",
   "nbconvert_exporter": "python",
   "pygments_lexer": "ipython3",
   "version": "3.12.2"
  }
 },
 "nbformat": 4,
 "nbformat_minor": 5
}
